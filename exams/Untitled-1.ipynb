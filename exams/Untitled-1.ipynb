{
 "cells": [
  {
   "cell_type": "code",
   "execution_count": 6,
   "metadata": {},
   "outputs": [
    {
     "ename": "TypeError",
     "evalue": "string indices must be integers, not 'str'",
     "output_type": "error",
     "traceback": [
      "\u001b[1;31m---------------------------------------------------------------------------\u001b[0m",
      "\u001b[1;31mTypeError\u001b[0m                                 Traceback (most recent call last)",
      "Cell \u001b[1;32mIn[6], line 38\u001b[0m\n\u001b[0;32m     36\u001b[0m \u001b[38;5;66;03m# Example usage:\u001b[39;00m\n\u001b[0;32m     37\u001b[0m file_path \u001b[38;5;241m=\u001b[39m \u001b[38;5;124m\"\u001b[39m\u001b[38;5;124mE:\u001b[39m\u001b[38;5;130;01m\\\\\u001b[39;00m\u001b[38;5;124mtesting-center\u001b[39m\u001b[38;5;130;01m\\\\\u001b[39;00m\u001b[38;5;124mpublic\u001b[39m\u001b[38;5;130;01m\\\\\u001b[39;00m\u001b[38;5;124mexams\u001b[39m\u001b[38;5;130;01m\\\\\u001b[39;00m\u001b[38;5;124mhl7-fhir.json\u001b[39m\u001b[38;5;124m\"\u001b[39m\n\u001b[1;32m---> 38\u001b[0m \u001b[43mcheck_and_update_json\u001b[49m\u001b[43m(\u001b[49m\u001b[43mfile_path\u001b[49m\u001b[43m)\u001b[49m\n",
      "Cell \u001b[1;32mIn[6], line 12\u001b[0m, in \u001b[0;36mcheck_and_update_json\u001b[1;34m(file_path)\u001b[0m\n\u001b[0;32m     10\u001b[0m duplicates \u001b[38;5;241m=\u001b[39m []\n\u001b[0;32m     11\u001b[0m \u001b[38;5;28;01mfor\u001b[39;00m item \u001b[38;5;129;01min\u001b[39;00m data:\n\u001b[1;32m---> 12\u001b[0m     content \u001b[38;5;241m=\u001b[39m \u001b[43mitem\u001b[49m\u001b[43m[\u001b[49m\u001b[38;5;124;43m\"\u001b[39;49m\u001b[38;5;124;43mcontent\u001b[39;49m\u001b[38;5;124;43m\"\u001b[39;49m\u001b[43m]\u001b[49m\n\u001b[0;32m     13\u001b[0m     \u001b[38;5;28;01mif\u001b[39;00m content \u001b[38;5;129;01min\u001b[39;00m contents:\n\u001b[0;32m     14\u001b[0m         duplicates\u001b[38;5;241m.\u001b[39mappend(content)\n",
      "\u001b[1;31mTypeError\u001b[0m: string indices must be integers, not 'str'"
     ]
    }
   ],
   "source": [
    "import json\n",
    "\n",
    "def check_and_update_json(file_path):\n",
    "    # Load JSON data from the file\n",
    "    with open(file_path, 'r') as file:\n",
    "        data = json.load(file)\n",
    "    \n",
    "    # Check for duplicate \"content\"\n",
    "    contents = {}\n",
    "    duplicates = []\n",
    "    for item in data:\n",
    "        content = item[\"content\"]\n",
    "        if content in contents:\n",
    "            duplicates.append(content)\n",
    "        else:\n",
    "            contents[content] = True\n",
    "\n",
    "    # Print duplicate content\n",
    "    if duplicates:\n",
    "        print(\"Duplicate 'content' found:\")\n",
    "        for content in duplicates:\n",
    "            print(f\" - {content}\")\n",
    "    else:\n",
    "        print(\"No duplicate 'content' found.\")\n",
    "\n",
    "    # Reassign \"id\" starting from 1\n",
    "    for idx, item in enumerate(data, start=1):\n",
    "        item[\"id\"] = idx\n",
    "\n",
    "    # Save the updated data back to the file\n",
    "    with open(file_path, 'w') as file:\n",
    "        json.dump(data, file, indent=4)\n",
    "\n",
    "    print(\"File updated successfully. IDs have been reassigned.\")\n",
    "\n",
    "# Example usage:\n",
    "file_path = \"E:\\\\testing-center\\\\public\\\\exams\\\\hl7-fhir.json\"\n",
    "check_and_update_json(file_path)\n"
   ]
  }
 ],
 "metadata": {
  "kernelspec": {
   "display_name": "Python 3",
   "language": "python",
   "name": "python3"
  },
  "language_info": {
   "codemirror_mode": {
    "name": "ipython",
    "version": 3
   },
   "file_extension": ".py",
   "mimetype": "text/x-python",
   "name": "python",
   "nbconvert_exporter": "python",
   "pygments_lexer": "ipython3",
   "version": "3.12.6"
  }
 },
 "nbformat": 4,
 "nbformat_minor": 2
}
